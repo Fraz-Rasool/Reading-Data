{
  "nbformat": 4,
  "nbformat_minor": 0,
  "metadata": {
    "colab": {
      "provenance": []
    },
    "kernelspec": {
      "name": "python3",
      "display_name": "Python 3"
    },
    "language_info": {
      "name": "python"
    }
  },
  "cells": [
    {
      "cell_type": "markdown",
      "source": [
        "One Hot Encode"
      ],
      "metadata": {
        "id": "YAUM6T75FKVD"
      }
    },
    {
      "cell_type": "code",
      "execution_count": 1,
      "metadata": {
        "colab": {
          "base_uri": "https://localhost:8080/"
        },
        "id": "Fn36Bt5xFCRP",
        "outputId": "8d26d6e9-55a5-4a06-b32b-d6b50d34b509"
      },
      "outputs": [
        {
          "output_type": "stream",
          "name": "stdout",
          "text": [
            "   color_blue  color_green  color_red\n",
            "0       False        False       True\n",
            "1       False         True      False\n",
            "2        True        False      False\n",
            "3       False         True      False\n",
            "4       False        False       True\n"
          ]
        }
      ],
      "source": [
        "import pandas as pd\n",
        "data = pd.DataFrame({\n",
        "    'color': ['red', 'green', 'blue', 'green', 'red']\n",
        "})\n",
        "one_hot_encode = pd.get_dummies(data, columns=['color'])\n",
        "print(one_hot_encode)"
      ]
    },
    {
      "cell_type": "markdown",
      "source": [
        "Label Encoding"
      ],
      "metadata": {
        "id": "1msq5gA5GOuV"
      }
    },
    {
      "cell_type": "code",
      "source": [
        "import pandas as pd\n",
        "from sklearn.preprocessing import LabelEncoder\n",
        "data = pd.DataFrame({\n",
        "    'color': ['red', 'green', 'blue', 'green', 'red']\n",
        "})\n",
        "label_encoder = LabelEncoder()\n",
        "data['color_encoded'] = label_encoder.fit_transform(data['color'])\n",
        "print(data)"
      ],
      "metadata": {
        "colab": {
          "base_uri": "https://localhost:8080/"
        },
        "id": "tHZfhV-MFRd9",
        "outputId": "805b713a-595f-4807-aa5f-8fe9a0025ca7"
      },
      "execution_count": 2,
      "outputs": [
        {
          "output_type": "stream",
          "name": "stdout",
          "text": [
            "   color  color_encoded\n",
            "0    red              2\n",
            "1  green              1\n",
            "2   blue              0\n",
            "3  green              1\n",
            "4    red              2\n"
          ]
        }
      ]
    },
    {
      "cell_type": "markdown",
      "source": [
        "Frequency Encoding"
      ],
      "metadata": {
        "id": "-nCRHgJ1GL5t"
      }
    },
    {
      "cell_type": "code",
      "source": [
        "import pandas as pd\n",
        "data = pd.DataFrame({\n",
        "    'color': ['red', 'green', 'blue', 'green', 'red', 'blue', 'blue']\n",
        "})\n",
        "frequency_encoding = data['color'].value_counts()\n",
        "data['color_encoded'] = data['color'].map(frequency_encoding)\n",
        "print(data)"
      ],
      "metadata": {
        "colab": {
          "base_uri": "https://localhost:8080/"
        },
        "id": "KQjLQqQGFsnp",
        "outputId": "053a85d6-1445-4242-ad00-ec4420aafeb7"
      },
      "execution_count": 3,
      "outputs": [
        {
          "output_type": "stream",
          "name": "stdout",
          "text": [
            "   color  color_encoded\n",
            "0    red              2\n",
            "1  green              2\n",
            "2   blue              3\n",
            "3  green              2\n",
            "4    red              2\n",
            "5   blue              3\n",
            "6   blue              3\n"
          ]
        }
      ]
    },
    {
      "cell_type": "markdown",
      "source": [
        "Target Encoding"
      ],
      "metadata": {
        "id": "Dq-JeQNTGCAL"
      }
    },
    {
      "cell_type": "code",
      "source": [
        "import pandas as pd\n",
        "data = pd.DataFrame({\n",
        "    'color': ['red', 'green', 'blue', 'green', 'red', 'blue', 'blue'],\n",
        "    'target': [1, 0, 1, 0, 1, 1, 0]\n",
        "})\n",
        "mean_target = data.groupby('color')['target'].mean()\n",
        "data['color_encoded'] = data['color'].map(mean_target)\n",
        "print(data)\n"
      ],
      "metadata": {
        "colab": {
          "base_uri": "https://localhost:8080/"
        },
        "id": "RocYhWnkF3D_",
        "outputId": "cbb3415c-c584-4558-9d30-63bba413bba5"
      },
      "execution_count": 4,
      "outputs": [
        {
          "output_type": "stream",
          "name": "stdout",
          "text": [
            "   color  target  color_encoded\n",
            "0    red       1       1.000000\n",
            "1  green       0       0.000000\n",
            "2   blue       1       0.666667\n",
            "3  green       0       0.000000\n",
            "4    red       1       1.000000\n",
            "5   blue       1       0.666667\n",
            "6   blue       0       0.666667\n"
          ]
        }
      ]
    }
  ]
}